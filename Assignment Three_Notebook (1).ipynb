{
 "cells": [
  {
   "cell_type": "markdown",
   "metadata": {},
   "source": [
    "# Group 12: Assignment Three\n"
   ]
  },
  {
   "cell_type": "markdown",
   "metadata": {},
   "source": [
    "## Exercise 5b"
   ]
  },
  {
   "cell_type": "code",
   "execution_count": 1,
   "metadata": {},
   "outputs": [],
   "source": [
    "import dash\n",
    "import dash_core_components as dcc\n",
    "#import dash_daq as daq\n",
    "import dash_html_components as html\n",
    "import datetime\n",
    "from dateutil.relativedelta import relativedelta\n",
    "import pandas_datareader as pdr #install through conda if necessary\n",
    "import plotly.graph_objs as go\n",
    "import pandas as pd"
   ]
  },
  {
   "cell_type": "code",
   "execution_count": 2,
   "metadata": {},
   "outputs": [],
   "source": [
    "data = pd.read_excel('C:/Users/20168635/OneDrive - TU Eindhoven/Documenten/Werk/TA Visualization 2020/dataset.xlsx')\n",
    "df = data\n",
    "\n",
    "for x in df.columns:\n",
    "    if str(df[x].dtypes) == 'object':\n",
    "        df = df.drop(str(x), axis=1)"
   ]
  },
  {
   "cell_type": "code",
   "execution_count": 3,
   "metadata": {},
   "outputs": [],
   "source": [
    "dataf=((df-df.min())/(df.max()-df.min()))*20"
   ]
  },
  {
   "cell_type": "code",
   "execution_count": 4,
   "metadata": {},
   "outputs": [],
   "source": [
    "#The Radar graph of patient number one\n",
    "\n",
    "first = dataf.iloc[1].dropna()\n",
    "\n",
    "import plotly.express as px\n",
    "import pandas as pd\n",
    "df = pd.DataFrame(dict(\n",
    "    r=list(first),\n",
    "    theta=list(first.index)))\n",
    "fig = px.line_polar(df, r='r', theta='theta', line_close=True)"
   ]
  },
  {
   "cell_type": "code",
   "execution_count": 5,
   "metadata": {},
   "outputs": [],
   "source": [
    "#For our interative stacked histogram should the \n",
    "data_1= data['Patient age quantile']\n",
    "data_2= data['SARS-Cov-2 exam result']"
   ]
  },
  {
   "cell_type": "code",
   "execution_count": null,
   "metadata": {},
   "outputs": [],
   "source": [
    "#First implmentation of our GUI\n",
    "\n",
    "app = dash.Dash()\n",
    "\n",
    "app.layout = html.Div([\n",
    "    html.Div(html.H1(children=\"COVID Patients Visualisation\")),\n",
    "    html.Label(\"Radar Chart for Patients\"),\n",
    "    html.Div(\n",
    "            dcc.Input(\n",
    "                id=\"Attributes\",\n",
    "                placeholder = \"insert\",\n",
    "                type=\"text\",\n",
    "                value=''\n",
    "        ),\n",
    "    ),\n",
    "    \n",
    "    html.Div(\n",
    "        dcc.Dropdown(\n",
    "            options=[\n",
    "                {'label':'Age', 'value':'Age'},\n",
    "                {'label': 'Urine Leukocytes', 'value':'Urine Leukocytes'},                \n",
    "            ]\n",
    "        \n",
    "        ),\n",
    "    ),\n",
    "\n",
    "    html.Div(\n",
    "        dcc.Graph(id = \"Radar chart of patien(s)\", figure=fig)\n",
    "    )\n",
    "])\n",
    "\n",
    "if __name__ == \"__main__\":\n",
    "    app.run_server(debug=False) #Note, if you are in another IDE, use True. Jupyter messes up."
   ]
  },
  {
   "cell_type": "markdown",
   "metadata": {},
   "source": [
    "## Exercise 6a"
   ]
  },
  {
   "cell_type": "code",
   "execution_count": 6,
   "metadata": {},
   "outputs": [],
   "source": [
    "#We have implemented a drop down menu for the user to choose which attributes he or she would like to see. The code is in Ex.5b.\n",
    "# The following is the code that implements it\n",
    "\n",
    "#html.Div(dcc.Dropdown(options=[\n",
    "#                {'label':'Age', 'value':'Age'},\n",
    "#                {'label': 'Urine Leukocytes', 'value':'Urine Leukocytes'}]))"
   ]
  },
  {
   "cell_type": "markdown",
   "metadata": {},
   "source": [
    "## Exercise 6b"
   ]
  },
  {
   "cell_type": "markdown",
   "metadata": {},
   "source": [
    "For selecting multiple attributes, we will be implmenting checkboxes where the user can choose all the attributes he or she would like to compare. Following is an example of the attributes that can be implmented. The following is the GUI with the dropdown menu and a checkbox for some of the attributes from the dataset. In our final visualisation, all the attributes will be added as an option."
   ]
  },
  {
   "cell_type": "code",
   "execution_count": 7,
   "metadata": {},
   "outputs": [
    {
     "ename": "SyntaxError",
     "evalue": "invalid syntax (<ipython-input-7-9efa3416b55a>, line 29)",
     "output_type": "error",
     "traceback": [
      "\u001b[1;36m  File \u001b[1;32m\"<ipython-input-7-9efa3416b55a>\"\u001b[1;36m, line \u001b[1;32m29\u001b[0m\n\u001b[1;33m    html.Div(\u001b[0m\n\u001b[1;37m       ^\u001b[0m\n\u001b[1;31mSyntaxError\u001b[0m\u001b[1;31m:\u001b[0m invalid syntax\n"
     ]
    }
   ],
   "source": [
    "app = dash.Dash()\n",
    "\n",
    "app.layout = html.Div([\n",
    "    html.Div(html.H1(children=\"COVID Patients Visualisation\")),\n",
    "    html.Label(\"Radar Chart for Patients\"),\n",
    "    html.Div(\n",
    "            dcc.Input(\n",
    "                id=\"Attributes\",\n",
    "                placeholder = \"insert\",\n",
    "                type=\"text\",\n",
    "                value=''\n",
    "        ),\n",
    "    ),\n",
    "    \n",
    "    html.Div(\n",
    "        dcc.Dropdown(\n",
    "            options=[\n",
    "                {'label':'Age', 'value':'Age'},\n",
    "                {'label': 'Urine Leukocytes', 'value':'Urine Leukocytes'},                \n",
    "            ]\n",
    "        \n",
    "        ),\n",
    "    ),\n",
    "\n",
    "    html.Div(\n",
    "        dcc.Graph(id = \"Radar chart of patien(s)\", figure=fig)\n",
    "    )\n",
    "    \n",
    "    html.Div(\n",
    "        dcc.Checklist(\n",
    "            options=[\n",
    "                {'label': 'Age', 'value': 'Age'},\n",
    "                {'label': 'Urine Leukocytes', 'value': 'Urine Leukocytes'},\n",
    "                {'label': 'Hematocrit', 'value': 'Hematocrit'}\n",
    "                ],\n",
    "            value=[data['Patient age quantile'], data['Urine Leukocytes'], data['Hematocrit']]\n",
    "        )  \n",
    "    )\n",
    "])\n",
    "\n",
    "if __name__ == \"__main__\":\n",
    "    app.run_server(debug=False) #Note, if you are in another IDE, use True. Jupyter messes up."
   ]
  },
  {
   "cell_type": "markdown",
   "metadata": {},
   "source": [
    "## Exercise 6c"
   ]
  },
  {
   "cell_type": "code",
   "execution_count": 8,
   "metadata": {},
   "outputs": [
    {
     "ename": "NameError",
     "evalue": "name 'plt' is not defined",
     "output_type": "error",
     "traceback": [
      "\u001b[1;31m---------------------------------------------------------------------------\u001b[0m",
      "\u001b[1;31mNameError\u001b[0m                                 Traceback (most recent call last)",
      "\u001b[1;32m<ipython-input-8-3416e6b36a99>\u001b[0m in \u001b[0;36m<module>\u001b[1;34m\u001b[0m\n\u001b[0;32m      1\u001b[0m \u001b[1;31m#Ages distribution is what this histogram shows.\u001b[0m\u001b[1;33m\u001b[0m\u001b[1;33m\u001b[0m\u001b[1;33m\u001b[0m\u001b[0m\n\u001b[0;32m      2\u001b[0m \u001b[1;33m\u001b[0m\u001b[0m\n\u001b[1;32m----> 3\u001b[1;33m \u001b[0mplt\u001b[0m\u001b[1;33m.\u001b[0m\u001b[0mhist\u001b[0m\u001b[1;33m(\u001b[0m\u001b[1;33m[\u001b[0m\u001b[0mdata_1\u001b[0m\u001b[1;33m]\u001b[0m\u001b[1;33m,\u001b[0m \u001b[0mbins\u001b[0m \u001b[1;33m=\u001b[0m \u001b[1;36m20\u001b[0m\u001b[1;33m,\u001b[0m \u001b[0mstacked\u001b[0m\u001b[1;33m=\u001b[0m \u001b[1;32mTrue\u001b[0m\u001b[1;33m,\u001b[0m \u001b[0medgecolor\u001b[0m \u001b[1;33m=\u001b[0m \u001b[1;34m'black'\u001b[0m\u001b[1;33m)\u001b[0m\u001b[1;33m\u001b[0m\u001b[1;33m\u001b[0m\u001b[0m\n\u001b[0m\u001b[0;32m      4\u001b[0m \u001b[0mplt\u001b[0m\u001b[1;33m.\u001b[0m\u001b[0mtitle\u001b[0m\u001b[1;33m(\u001b[0m\u001b[1;34m'Ages of Patients'\u001b[0m\u001b[1;33m)\u001b[0m\u001b[1;33m\u001b[0m\u001b[1;33m\u001b[0m\u001b[0m\n\u001b[0;32m      5\u001b[0m \u001b[0mplt\u001b[0m\u001b[1;33m.\u001b[0m\u001b[0mxlabel\u001b[0m\u001b[1;33m(\u001b[0m\u001b[1;34m'Ages'\u001b[0m\u001b[1;33m)\u001b[0m\u001b[1;33m\u001b[0m\u001b[1;33m\u001b[0m\u001b[0m\n",
      "\u001b[1;31mNameError\u001b[0m: name 'plt' is not defined"
     ]
    }
   ],
   "source": [
    "#Ages distribution is what this histogram shows. \n",
    "\n",
    "plt.hist([data_1], bins = 20, stacked= True, edgecolor = 'black')\n",
    "plt.title('Ages of Patients')\n",
    "plt.xlabel('Ages')\n",
    "plt.ylabel('Frequency')\n",
    "plt.legend()\n",
    "plt.axvline(data['Patient age quantile'].median(), color='green', label='Age median')"
   ]
  },
  {
   "cell_type": "code",
   "execution_count": 9,
   "metadata": {},
   "outputs": [
    {
     "ename": "NameError",
     "evalue": "name 'plt' is not defined",
     "output_type": "error",
     "traceback": [
      "\u001b[1;31m---------------------------------------------------------------------------\u001b[0m",
      "\u001b[1;31mNameError\u001b[0m                                 Traceback (most recent call last)",
      "\u001b[1;32m<ipython-input-9-07eb85856395>\u001b[0m in \u001b[0;36m<module>\u001b[1;34m\u001b[0m\n\u001b[0;32m      1\u001b[0m \u001b[1;31m#Hematocrit distribution is what this histogram shows.\u001b[0m\u001b[1;33m\u001b[0m\u001b[1;33m\u001b[0m\u001b[1;33m\u001b[0m\u001b[0m\n\u001b[0;32m      2\u001b[0m \u001b[1;33m\u001b[0m\u001b[0m\n\u001b[1;32m----> 3\u001b[1;33m \u001b[0mplt\u001b[0m\u001b[1;33m.\u001b[0m\u001b[0mhist\u001b[0m\u001b[1;33m(\u001b[0m\u001b[0mdata\u001b[0m\u001b[1;33m[\u001b[0m\u001b[1;34m'Hematocrit'\u001b[0m\u001b[1;33m]\u001b[0m\u001b[1;33m,\u001b[0m \u001b[0mbins\u001b[0m \u001b[1;33m=\u001b[0m \u001b[1;36m20\u001b[0m\u001b[1;33m,\u001b[0m \u001b[0medgecolor\u001b[0m \u001b[1;33m=\u001b[0m \u001b[1;34m'black'\u001b[0m\u001b[1;33m)\u001b[0m\u001b[1;33m\u001b[0m\u001b[1;33m\u001b[0m\u001b[0m\n\u001b[0m\u001b[0;32m      4\u001b[0m \u001b[0mplt\u001b[0m\u001b[1;33m.\u001b[0m\u001b[0mtitle\u001b[0m\u001b[1;33m(\u001b[0m\u001b[1;34m'hemocrit'\u001b[0m\u001b[1;33m)\u001b[0m\u001b[1;33m\u001b[0m\u001b[1;33m\u001b[0m\u001b[0m\n\u001b[0;32m      5\u001b[0m \u001b[0mplt\u001b[0m\u001b[1;33m.\u001b[0m\u001b[0mxlabel\u001b[0m\u001b[1;33m(\u001b[0m\u001b[1;34m'Hematocrit value'\u001b[0m\u001b[1;33m)\u001b[0m\u001b[1;33m\u001b[0m\u001b[1;33m\u001b[0m\u001b[0m\n",
      "\u001b[1;31mNameError\u001b[0m: name 'plt' is not defined"
     ]
    }
   ],
   "source": [
    "#Hematocrit distribution is what this histogram shows. \n",
    "\n",
    "plt.hist(data['Hematocrit'], bins = 20, edgecolor = 'black')\n",
    "plt.title('hemocrit')\n",
    "plt.xlabel('Hematocrit value')\n",
    "plt.ylabel('Frequency')\n",
    "plt.legend()\n",
    "plt.axvline(data['Hematocrit'].median(), color='green', label='Hematocrit value median')"
   ]
  },
  {
   "cell_type": "code",
   "execution_count": null,
   "metadata": {},
   "outputs": [],
   "source": []
  },
  {
   "cell_type": "code",
   "execution_count": null,
   "metadata": {},
   "outputs": [],
   "source": []
  }
 ],
 "metadata": {
  "kernelspec": {
   "display_name": "Python 3",
   "language": "python",
   "name": "python3"
  },
  "language_info": {
   "codemirror_mode": {
    "name": "ipython",
    "version": 3
   },
   "file_extension": ".py",
   "mimetype": "text/x-python",
   "name": "python",
   "nbconvert_exporter": "python",
   "pygments_lexer": "ipython3",
   "version": "3.7.6"
  }
 },
 "nbformat": 4,
 "nbformat_minor": 4
}
