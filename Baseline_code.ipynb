{
 "cells": [
  {
   "cell_type": "code",
   "execution_count": null,
   "metadata": {},
   "outputs": [],
   "source": [
    "## Baseline Code ##\n"
   ]
  },
  {
   "cell_type": "code",
   "execution_count": 4,
   "metadata": {},
   "outputs": [],
   "source": [
    "#imports\n",
    "import os\n",
    "import sys\n",
    "\n",
    "import pandas as pd\n",
    "import numpy as np\n",
    "import matplotlib.pyplot as plt\n",
    "from matplotlib.patches import Ellipse\n",
    "import seaborn as sns\n",
    "import math\n",
    "\n",
    "from scipy import signal\n",
    "from scipy.ndimage import label\n",
    "from scipy.stats import zscore\n",
    "from scipy.interpolate import interp1d\n",
    "from scipy.integrate import trapz"
   ]
  },
  {
   "cell_type": "code",
   "execution_count": 33,
   "metadata": {},
   "outputs": [
    {
     "name": "stdout",
     "output_type": "stream",
     "text": [
      "0.49928871225899846\n"
     ]
    }
   ],
   "source": [
    "#baseline over every night\n",
    "data=[900, 800, 900, 850, 860, 890, 910]   #should be HRV of night\n",
    "a=0\n",
    "i=0\n",
    "hrv_average=0\n",
    "\n",
    "for i in data:\n",
    "    difference=0    #set difference and average the whole time back to zero\n",
    "    average=0\n",
    "    difference= i-data[a+1]    #calculate difference between 2 HRV\n",
    "    if difference < 0:\n",
    "        difference=difference*-1    # make sure difference is not a minus number\n",
    "    else: \n",
    "        difference=difference\n",
    "    \n",
    "    average=np.log(math.sqrt(difference*difference))    #calcualte mean rood square\n",
    "    hrv_average=hrv_average + average\n",
    "    a=a+1    #needed for calculating average\n",
    "    if a>5:   #should actually be range of data, but that does not work.. \n",
    "        break\n",
    "    \n",
    "HRV_baseline_night= average/a\n",
    "print(HRV_baseline_night)    #final HRV baseline of 1 night\n"
   ]
  },
  {
   "cell_type": "code",
   "execution_count": 25,
   "metadata": {},
   "outputs": [
    {
     "name": "stdout",
     "output_type": "stream",
     "text": [
      "3.380714285714286\n"
     ]
    }
   ],
   "source": [
    "#baseline over two weeks + updating\n",
    "HRV_baseline_twoweeks=[3.33, 4, 3, 4, 1, 5, 3, 2, 3, 4, 3, 4, 4, 4]\n",
    "j=0\n",
    "b=0\n",
    "average_twoweeks=0\n",
    "for j in HRV_baseline_twoweeks:\n",
    "    average_twoweeks=average_twoweeks + j\n",
    "    b=b+1\n",
    "    if j==13:\n",
    "        average_twoweeks=average_twoweeks - HRV_baseline_twoweeks[0]\n",
    "    \n",
    "HRV_baseline= average_twoweeks/b\n",
    "print(HRV_baseline)"
   ]
  },
  {
   "cell_type": "code",
   "execution_count": 9,
   "metadata": {},
   "outputs": [
    {
     "name": "stdout",
     "output_type": "stream",
     "text": [
      "900\n",
      "800\n",
      "900\n",
      "850\n",
      "860\n",
      "890\n",
      "910\n"
     ]
    }
   ],
   "source": [
    "\n"
   ]
  },
  {
   "cell_type": "code",
   "execution_count": null,
   "metadata": {},
   "outputs": [],
   "source": []
  },
  {
   "cell_type": "code",
   "execution_count": null,
   "metadata": {},
   "outputs": [],
   "source": []
  },
  {
   "cell_type": "code",
   "execution_count": null,
   "metadata": {},
   "outputs": [],
   "source": []
  },
  {
   "cell_type": "code",
   "execution_count": null,
   "metadata": {},
   "outputs": [],
   "source": []
  }
 ],
 "metadata": {
  "kernelspec": {
   "display_name": "Python 3",
   "language": "python",
   "name": "python3"
  },
  "language_info": {
   "codemirror_mode": {
    "name": "ipython",
    "version": 3
   },
   "file_extension": ".py",
   "mimetype": "text/x-python",
   "name": "python",
   "nbconvert_exporter": "python",
   "pygments_lexer": "ipython3",
   "version": "3.7.3"
  }
 },
 "nbformat": 4,
 "nbformat_minor": 2
}
