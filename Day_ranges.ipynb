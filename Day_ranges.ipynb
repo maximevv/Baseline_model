{
 "cells": [
  {
   "cell_type": "raw",
   "metadata": {},
   "source": [
    "# Code for evaluating total day HRV and give an evaluation of that day"
   ]
  },
  {
   "cell_type": "code",
   "execution_count": 11,
   "metadata": {},
   "outputs": [],
   "source": [
    "#imports\n",
    "import os\n",
    "import sys\n",
    "\n",
    "import pandas as pd\n",
    "import numpy as np\n",
    "import matplotlib.pyplot as plt\n",
    "from matplotlib.patches import Ellipse\n",
    "import seaborn as sns\n",
    "import math\n",
    "\n",
    "from scipy import signal\n",
    "from scipy.ndimage import label\n",
    "from scipy.stats import zscore\n",
    "from scipy.interpolate import interp1d\n",
    "from scipy.integrate import trapz"
   ]
  },
  {
   "cell_type": "code",
   "execution_count": 54,
   "metadata": {},
   "outputs": [
    {
     "name": "stdout",
     "output_type": "stream",
     "text": [
      "4.30406509320417\n",
      "1\n",
      "3.091042453358316\n",
      "2\n",
      "0\n",
      "3\n",
      "2.302585092994046\n",
      "4\n",
      "3.4011973816621555\n",
      "5\n",
      "2.995732273553991\n",
      "6\n"
     ]
    },
    {
     "ename": "IndexError",
     "evalue": "list index out of range",
     "output_type": "error",
     "traceback": [
      "\u001b[1;31m---------------------------------------------------------------------------\u001b[0m",
      "\u001b[1;31mIndexError\u001b[0m                                Traceback (most recent call last)",
      "\u001b[1;32m<ipython-input-54-3723a43cb6e8>\u001b[0m in \u001b[0;36m<module>\u001b[1;34m\u001b[0m\n\u001b[0;32m     10\u001b[0m     \u001b[0maverage\u001b[0m\u001b[1;33m=\u001b[0m\u001b[1;36m0\u001b[0m\u001b[1;33m\u001b[0m\u001b[1;33m\u001b[0m\u001b[0m\n\u001b[0;32m     11\u001b[0m \u001b[1;33m\u001b[0m\u001b[0m\n\u001b[1;32m---> 12\u001b[1;33m     \u001b[0mdifference\u001b[0m\u001b[1;33m=\u001b[0m \u001b[0mi\u001b[0m\u001b[1;33m-\u001b[0m\u001b[0mdata\u001b[0m\u001b[1;33m[\u001b[0m\u001b[0ma\u001b[0m\u001b[1;33m+\u001b[0m\u001b[1;36m1\u001b[0m\u001b[1;33m]\u001b[0m \u001b[1;31m#calculate difference between 2 HRV\u001b[0m\u001b[1;33m\u001b[0m\u001b[1;33m\u001b[0m\u001b[0m\n\u001b[0m\u001b[0;32m     13\u001b[0m \u001b[1;33m\u001b[0m\u001b[0m\n\u001b[0;32m     14\u001b[0m     \u001b[1;32mif\u001b[0m \u001b[0mdifference\u001b[0m \u001b[1;33m<\u001b[0m \u001b[1;36m0\u001b[0m\u001b[1;33m:\u001b[0m\u001b[1;33m\u001b[0m\u001b[1;33m\u001b[0m\u001b[0m\n",
      "\u001b[1;31mIndexError\u001b[0m: list index out of range"
     ]
    }
   ],
   "source": [
    "#calculate HRV of that day\n",
    "\n",
    "data=[754, 828, 850, 850, 860, 890, 910]   #HRV values of whole day\n",
    "a=0\n",
    "i=0\n",
    "hrv_average=0\n",
    "\n",
    "for i in data:\n",
    "    difference=0    #set difference and average the whole time back to zero\n",
    "    average=0\n",
    "    \n",
    "    difference= i-data[a+1] #calculate difference between 2 HRV\n",
    "    \n",
    "    if difference < 0:\n",
    "        difference=difference*-1\n",
    "        average=np.log(math.sqrt(difference*difference)) # make sure difference is not a minus number\n",
    "    elif difference==0: \n",
    "        average=0\n",
    "    else:\n",
    "        average=np.log(math.sqrt(difference*difference))\n",
    "        \n",
    "    hrv_average=hrv_average + average\n",
    "    a=a+1    #needed for calculating average\n",
    "    if a>6:   #should actually be range of data, but that does not work.. \n",
    "        break\n",
    "    print(average)\n",
    "    print(a)\n",
    "    \n",
    "HRV_day= hrv_average/a\n",
    "print(HRV_day)\n",
    "#final HRV baseline of 1 night"
   ]
  },
  {
   "cell_type": "code",
   "execution_count": 56,
   "metadata": {},
   "outputs": [
    {
     "name": "stdout",
     "output_type": "stream",
     "text": [
      "You should take an day off\n"
     ]
    }
   ],
   "source": [
    "## Ranges HRV, based on two weeks baseline\n",
    "HRV_baseline=3\n",
    "\n",
    "HRV_baseline_lower=HRV_baseline - 0.2\n",
    "HRV_baseline_upper=HRV_baseline + 0.2\n",
    "\n",
    "if HRV_baseline_lower<=HRV_day<=HRV_baseline_uppper:\n",
    "    print('Keep it up')\n",
    "elif HRV_day>HRV_baseline_upper:\n",
    "    print('You can increase your intensity')\n",
    "else:\n",
    "    print('You should take an day off')"
   ]
  },
  {
   "cell_type": "code",
   "execution_count": null,
   "metadata": {},
   "outputs": [],
   "source": []
  }
 ],
 "metadata": {
  "kernelspec": {
   "display_name": "Python 3",
   "language": "python",
   "name": "python3"
  },
  "language_info": {
   "codemirror_mode": {
    "name": "ipython",
    "version": 3
   },
   "file_extension": ".py",
   "mimetype": "text/x-python",
   "name": "python",
   "nbconvert_exporter": "python",
   "pygments_lexer": "ipython3",
   "version": "3.7.3"
  }
 },
 "nbformat": 4,
 "nbformat_minor": 2
}
